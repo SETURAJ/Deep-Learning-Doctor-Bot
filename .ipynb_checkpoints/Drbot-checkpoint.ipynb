{
 "cells": [
  {
   "cell_type": "code",
   "execution_count": 209,
   "id": "cabd669b",
   "metadata": {},
   "outputs": [],
   "source": [
    "import json \n",
    "import numpy as np\n",
    "import tensorflow as tf\n",
    "from tensorflow import keras\n",
    "from sklearn.preprocessing import LabelEncoder\n",
    "import colorama\n",
    "import pandas as pd"
   ]
  },
  {
   "cell_type": "code",
   "execution_count": 210,
   "id": "4f31a682",
   "metadata": {},
   "outputs": [],
   "source": [
    "colorama.init()\n",
    "from colorama import Fore,Style,Back"
   ]
  },
  {
   "cell_type": "code",
   "execution_count": 211,
   "id": "641fdfff",
   "metadata": {},
   "outputs": [],
   "source": [
    "import random \n",
    "import pickle\n"
   ]
  },
  {
   "cell_type": "code",
   "execution_count": 212,
   "id": "d33bfa9b",
   "metadata": {},
   "outputs": [],
   "source": [
    "with open(\"intents.json\") as file:\n",
    "    data=json.load(file)\n",
    "    \n"
   ]
  },
  {
   "cell_type": "code",
   "execution_count": 213,
   "id": "7ab72849",
   "metadata": {},
   "outputs": [],
   "source": [
    "def trim(l, n, pad=0):\n",
    "    if len(l) >= n:\n",
    "        del l[n:]\n",
    "    else:\n",
    "        l.extend([pad] * (n - len(l)))"
   ]
  },
  {
   "cell_type": "code",
   "execution_count": 214,
   "id": "b44cc9b4",
   "metadata": {},
   "outputs": [],
   "source": [
    "def chat():\n",
    "    #load trained model\n",
    "    model=keras.models.load_model('chatbot_model')\n",
    "    \n",
    "    disease_model = pickle.load(open('./Disease Prediction/disease_model.pkl', 'rb'))\n",
    "    df_severity = pd.read_csv('./Disease Prediction/Symptom-severity.csv')\n",
    "    df_severity['Symptom'] = df_severity['Symptom'].str.replace('_','')\n",
    "    symptoms=df_severity['Symptom'].unique()\n",
    "    print(symptoms)\n",
    "    print(Fore.BLUE + \"ChatBot:\" + Style.RESET_ALL, \"Hello I'm your doctor bot: Write help for entering symptoms\")\n",
    "    with open('tokenizer.pickle','rb') as handle:\n",
    "        tokenizer=pickle.load(handle)\n",
    "    with open('label_encoder.pickle','rb') as enc:\n",
    "        lbl_encoder=pickle.load(enc)\n",
    "        \n",
    "    max_len=20\n",
    "    \n",
    "    while True:\n",
    "        print(Fore.LIGHTBLUE_EX + \"User: \"+ Style.RESET_ALL,end=\"\")\n",
    "        inp=input()\n",
    "        if inp.lower()==\"quit\" or inp.lower()==\"exit\":\n",
    "            break\n",
    "        flag=False\n",
    "        for intent in data['intents']:\n",
    "            for pattern in intent['patterns']:\n",
    "                if inp.lower()==pattern:\n",
    "                    flag=True\n",
    "        \n",
    "        result=model.predict(keras.preprocessing.sequence.pad_sequences(tokenizer.texts_to_sequences([inp]),\n",
    "                                                                       truncating='post',maxlen=max_len))\n",
    "        tag=lbl_encoder.inverse_transform([np.argmax(result)])\n",
    "\n",
    "        \n",
    "        \"\"\"for i in data['intents']:\n",
    "            if i['tag']==\"help\" and i['tag']==tag:\n",
    "                print(Fore.GREEN + \"ChatBot:\" + Style.RESET_ALL, np.random.choice(i['responses']))\n",
    "            sym=input().lower()\n",
    "            x=sym.split()\n",
    "            for s in x:\n",
    "                if s not in symptoms:\n",
    "                    x.remove(s)\n",
    "            print(s)\n",
    "           \"\"\" \n",
    "        \n",
    "        if flag==False:\n",
    "            print(Fore.GREEN + \"ChatBot:\" + Style.RESET_ALL, \"Sorry I didn't understand\")\n",
    "        else:\n",
    "            for i in data['intents']:\n",
    "                if i['tag']==\"help\" and i['tag']==tag:\n",
    "                    print(Fore.GREEN + \"ChatBot:\" + Style.RESET_ALL, np.random.choice(i['responses']))\n",
    "                    print(Fore.GREEN + \"User: \")\n",
    "                    sym=input().lower()\n",
    "                    x=sym.split()\n",
    "                    for s in x:\n",
    "                        if s not in symptoms:\n",
    "                            x.remove(s)\n",
    "                    for i in range(len(x)):\n",
    "                        x[i] = df_severity[df_severity['Symptom'] == x[i]]['weight'].values[0]\n",
    "                    trim(x,17)\n",
    "                    pre=disease_model.predict([x])\n",
    "                    print( \"ChatBot:  You may have \" + pre[0] + \" .Please consult a doctor\" )\n",
    "                    \n",
    "                elif i['tag']==tag and i['tag']!=\"help\":\n",
    "                    print(Fore.GREEN + \"ChatBot:\" + Style.RESET_ALL, np.random.choice(i['responses']))  \n"
   ]
  },
  {
   "cell_type": "code",
   "execution_count": null,
   "id": "9bb02945",
   "metadata": {
    "scrolled": true
   },
   "outputs": [
    {
     "name": "stdout",
     "output_type": "stream",
     "text": [
      "Start messaging with the bot(Quit-Stop)!\n",
      "['itching' 'skinrash' 'nodalskineruptions' 'continuoussneezing'\n",
      " 'shivering' 'chills' 'jointpain' 'stomachpain' 'acidity' 'ulcersontongue'\n",
      " 'musclewasting' 'vomiting' 'burningmicturition' 'spottingurination'\n",
      " 'fatigue' 'weightgain' 'anxiety' 'coldhandsandfeets' 'moodswings'\n",
      " 'weightloss' 'restlessness' 'lethargy' 'patchesinthroat'\n",
      " 'irregularsugarlevel' 'cough' 'highfever' 'sunkeneyes' 'breathlessness'\n",
      " 'sweating' 'dehydration' 'indigestion' 'headache' 'yellowishskin'\n",
      " 'darkurine' 'nausea' 'lossofappetite' 'painbehindtheeyes' 'backpain'\n",
      " 'constipation' 'abdominalpain' 'diarrhoea' 'mildfever' 'yellowurine'\n",
      " 'yellowingofeyes' 'acuteliverfailure' 'fluidoverload' 'swellingofstomach'\n",
      " 'swelledlymphnodes' 'malaise' 'blurredanddistortedvision' 'phlegm'\n",
      " 'throatirritation' 'rednessofeyes' 'sinuspressure' 'runnynose'\n",
      " 'congestion' 'chestpain' 'weaknessinlimbs' 'fastheartrate'\n",
      " 'painduringbowelmovements' 'paininanalregion' 'bloodystool'\n",
      " 'irritationinanus' 'neckpain' 'dizziness' 'cramps' 'bruising' 'obesity'\n",
      " 'swollenlegs' 'swollenbloodvessels' 'puffyfaceandeyes' 'enlargedthyroid'\n",
      " 'brittlenails' 'swollenextremeties' 'excessivehunger'\n",
      " 'extramaritalcontacts' 'dryingandtinglinglips' 'slurredspeech' 'kneepain'\n",
      " 'hipjointpain' 'muscleweakness' 'stiffneck' 'swellingjoints'\n",
      " 'movementstiffness' 'spinningmovements' 'lossofbalance' 'unsteadiness'\n",
      " 'weaknessofonebodyside' 'lossofsmell' 'bladderdiscomfort'\n",
      " 'foulsmellofurine' 'continuousfeelofurine' 'passageofgases'\n",
      " 'internalitching' 'toxiclook(typhos)' 'depression' 'irritability'\n",
      " 'musclepain' 'alteredsensorium' 'redspotsoverbody' 'bellypain'\n",
      " 'abnormalmenstruation' 'dischromicpatches' 'wateringfromeyes'\n",
      " 'increasedappetite' 'polyuria' 'familyhistory' 'mucoidsputum'\n",
      " 'rustysputum' 'lackofconcentration' 'visualdisturbances'\n",
      " 'receivingbloodtransfusion' 'receivingunsterileinjections' 'coma'\n",
      " 'stomachbleeding' 'distentionofabdomen' 'historyofalcoholconsumption'\n",
      " 'bloodinsputum' 'prominentveinsoncalf' 'palpitations' 'painfulwalking'\n",
      " 'pusfilledpimples' 'blackheads' 'scurring' 'skinpeeling'\n",
      " 'silverlikedusting' 'smalldentsinnails' 'inflammatorynails' 'blister'\n",
      " 'redsorearoundnose' 'yellowcrustooze' 'prognosis']\n",
      "ChatBot: Hello I'm your doctor bot: Write help for entering symptoms\n",
      "User: help\n",
      "ChatBot: Please enter symptoms\n",
      "User: \n",
      "cough chestpain\n",
      "ChatBot:  You may have Fungal infection Please consult a doctor\n",
      "User: "
     ]
    }
   ],
   "source": [
    "print(Fore.YELLOW + \"Start messaging with the bot(Quit-Stop)!\"+ Style.RESET_ALL)\n",
    "chat()"
   ]
  },
  {
   "cell_type": "code",
   "execution_count": null,
   "id": "a9a12dce",
   "metadata": {},
   "outputs": [],
   "source": []
  },
  {
   "cell_type": "code",
   "execution_count": null,
   "id": "b0ac53a8",
   "metadata": {},
   "outputs": [],
   "source": []
  },
  {
   "cell_type": "code",
   "execution_count": null,
   "id": "79f11c36",
   "metadata": {},
   "outputs": [],
   "source": []
  }
 ],
 "metadata": {
  "kernelspec": {
   "display_name": "Python 3 (ipykernel)",
   "language": "python",
   "name": "python3"
  },
  "language_info": {
   "codemirror_mode": {
    "name": "ipython",
    "version": 3
   },
   "file_extension": ".py",
   "mimetype": "text/x-python",
   "name": "python",
   "nbconvert_exporter": "python",
   "pygments_lexer": "ipython3",
   "version": "3.8.13"
  }
 },
 "nbformat": 4,
 "nbformat_minor": 5
}
